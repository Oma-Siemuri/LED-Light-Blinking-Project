{
 "cells": [
  {
   "cell_type": "code",
   "execution_count": null,
   "metadata": {},
   "outputs": [],
   "source": [
    "import RPi.GPIO as GPIO\n",
    "import time\n",
    "\n",
    "ledPin = 11    # RPI Board pin11\n",
    "\n",
    "def setup():\n",
    "    GPIO.setmode(GPIO.BOARD)      # Numbers GPIOs by physical location \n",
    "    GPIO.setup(ledPin, GPIO.OUT)  # Set ledPin's mode is output\n",
    "    GPIO.output(ledPin, GPIO.LOW) # Set ledPin low to off led\n",
    "    print ('using pin%d'%ledPin)\n",
    "\n",
    "def loop():\n",
    "    while True:\n",
    "        GPIO.output(ledPin, GPIO.HIGH) # led on\n",
    "        print ('...led on')\n",
    "        time.sleep(1)                  # delay 1 second \n",
    "        GPIO.output(ledPin, GPIO.LOW)  # led off\n",
    "        print ('led off...') \n",
    "        time.sleep(1)\n",
    "\n",
    "def destroy():\n",
    "    GPIO.output(ledPin, GPIO.LOW)   # led off \n",
    "    GPIO.cleanup()                  # Release resource\n",
    "    \n",
    "if __name__ == '__main__':          # Program start from here \n",
    "    setup()\n",
    "    try: \n",
    "        loop()\n",
    "    except KeyboardInterrupt:       # When 'Ctrl+C' is pressed, the subprogram destroy() will be executed.\n",
    "        destroy()\n",
    "        "
   ]
  }
 ],
 "metadata": {
  "kernelspec": {
   "display_name": "Python 3",
   "language": "python",
   "name": "python3"
  },
  "language_info": {
   "codemirror_mode": {
    "name": "ipython",
    "version": 3
   },
   "file_extension": ".py",
   "mimetype": "text/x-python",
   "name": "python",
   "nbconvert_exporter": "python",
   "pygments_lexer": "ipython3",
   "version": "3.8.3"
  }
 },
 "nbformat": 4,
 "nbformat_minor": 4
}
